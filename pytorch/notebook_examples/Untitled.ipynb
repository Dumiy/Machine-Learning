{
 "cells": [
  {
   "cell_type": "code",
   "execution_count": 13,
   "metadata": {},
   "outputs": [],
   "source": [
    "import torch\n",
    "import torch.nn as nn\n",
    "import sys\n",
    "from pathlib import Path\n",
    "sys.path.append(str(Path.cwd().parent))\n",
    "from models.neuralnet import NeuralNet\n",
    "from models.convnet import ConvNet"
   ]
  },
  {
   "cell_type": "code",
   "execution_count": 43,
   "metadata": {},
   "outputs": [
    {
     "name": "stdout",
     "output_type": "stream",
     "text": [
      "dict_keys(['conv1d', 'conv2d', 'conv3d', 'conv1dt', 'conv2dt', 'conv3dt'])\n",
      "torch.Size([1, 50, 49, 49])\n"
     ]
    },
    {
     "data": {
      "text/plain": [
       "True"
      ]
     },
     "execution_count": 43,
     "metadata": {},
     "output_type": "execute_result"
    }
   ],
   "source": [
    "# Types of convolution available\n",
    "\n",
    "from models.utils import return_conv_dict_keys\n",
    "print(return_conv_dict_keys())\n",
    "# How to create ConvNets\n",
    "model = ConvNet(3, [['conv2d', '15,3,2'],\n",
    "                    ['conv2dt', '35,3,2'],\n",
    "                    ['conv2dt', '55,3,2'],\n",
    "                    ['conv2d', '50,3,2']],\n",
    "                     [[nn.MaxPool2d((2,2)),nn.BatchNorm2d(15),nn.ReLU()],\n",
    "                      'skip', nn.ReLU(),\n",
    "                      nn.ReLU()])\n",
    "print(model(torch.randn(1,3,100,100)).shape)\n",
    "\n",
    "model = ConvNet(3, \n",
    "                    [['conv2d', 'out_channels=15,kernel_size=3,stride=2'],\n",
    "                    ['conv2dt', 'out_channels=30,kernel_size=3,stride=2'],\n",
    "                    ['conv2dt', 'out_channels=50,kernel_size=3,stride=2'],\n",
    "                    ['conv2d', 'out_channels=55,kernel_size=3,stride=2,padding=(2,2)']],\n",
    "                    [[nn.MaxPool2d((2,2)),nn.BatchNorm2d(15),nn.ReLU()],\n",
    "                     'skip', \n",
    "                     nn.ReLU(),\n",
    "                     nn.ReLU()])\n",
    "model(torch.randn(1,3,100,100)).shape == (1,55,51,51)"
   ]
  },
  {
   "cell_type": "code",
   "execution_count": 37,
   "metadata": {},
   "outputs": [
    {
     "data": {
      "text/plain": [
       "torch.Size([4, 2])"
      ]
     },
     "execution_count": 37,
     "metadata": {},
     "output_type": "execute_result"
    }
   ],
   "source": [
    "model = NeuralNet(100, [[15,True],\n",
    "                        [20,False], \n",
    "                        2],\n",
    "              [[torch.nn.ReLU(), torch.nn.BatchNorm1d(15)],\n",
    "               [torch.nn.ReLU(), torch.nn.BatchNorm1d(20)],\n",
    "               torch.nn.Sigmoid()])\n",
    "model(torch.randn(4,100)).shape"
   ]
  },
  {
   "cell_type": "code",
   "execution_count": null,
   "metadata": {},
   "outputs": [],
   "source": []
  }
 ],
 "metadata": {
  "kernelspec": {
   "display_name": "Python 3",
   "language": "python",
   "name": "python3"
  },
  "language_info": {
   "codemirror_mode": {
    "name": "ipython",
    "version": 3
   },
   "file_extension": ".py",
   "mimetype": "text/x-python",
   "name": "python",
   "nbconvert_exporter": "python",
   "pygments_lexer": "ipython3",
   "version": "3.7.4"
  }
 },
 "nbformat": 4,
 "nbformat_minor": 2
}
